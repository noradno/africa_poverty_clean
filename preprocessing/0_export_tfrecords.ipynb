{
 "cells": [
  {
   "cell_type": "markdown",
   "metadata": {
    "toc": true
   },
   "source": [
    "<h1>Table of Contents<span class=\"tocSkip\"></span></h1>\n",
    "<div class=\"toc\"><ul class=\"toc-item\"><li><span><a href=\"#Pre-requisites\" data-toc-modified-id=\"Pre-requisites-1\"><span class=\"toc-item-num\">1&nbsp;&nbsp;</span>Pre-requisites</a></span></li><li><span><a href=\"#Instructions\" data-toc-modified-id=\"Instructions-2\"><span class=\"toc-item-num\">2&nbsp;&nbsp;</span>Instructions</a></span></li><li><span><a href=\"#Imports-and-Constants\" data-toc-modified-id=\"Imports-and-Constants-3\"><span class=\"toc-item-num\">3&nbsp;&nbsp;</span>Imports and Constants</a></span></li><li><span><a href=\"#Constants\" data-toc-modified-id=\"Constants-4\"><span class=\"toc-item-num\">4&nbsp;&nbsp;</span>Constants</a></span></li><li><span><a href=\"#Export-Images\" data-toc-modified-id=\"Export-Images-5\"><span class=\"toc-item-num\">5&nbsp;&nbsp;</span>Export Images</a></span></li></ul></div>"
   ]
  },
  {
   "cell_type": "markdown",
   "metadata": {},
   "source": [
    "## Pre-requisites\n",
    "Register a Google account at [https://code.earthengine.google.com](https://code.earthengine.google.com). This process may take a couple of days. Without registration, the `ee.Initialize()` command below will throw an error message.\n",
    "\n",
    "## Instructions\n",
    "\n",
    "This notebook exports Landsat satellite image composites from Google Earth Engine. The images are saved in gzipped TFRecord format (`*.tfrecord.gz`). The exported images take up a significant amount of storage space. Before exporting, make sure you have enough storage space.\n",
    "\n",
    "In this project, we download satellite images corresponding to three different datasets:\n",
    "\n",
    "- **DHS**: 19,669 clusters from DHS surveys, for which we predict cross-sectional (*i.e.*, static in time) cluster-level asset wealth\n",
    "- **DHSNL**: 260,415 locations sampled near DHS survey locations, for which we train transfer learning models to predict nightlights values\n",
    "- **LSMS**: 2,913 clusters from LSMS surveys, for which we predict changes in cluster-level asset wealth over time\n",
    "\n",
    "|       | Storage  | Expected Export Time\n",
    "|-------|----------|---------------------\n",
    "| DHS   | ~16.0 GB | ~24h\n",
    "| LSMS  |  ~2.5 GB | ~10h\n",
    "| DHSNL |  ~240 GB | ~72h\n",
    "\n",
    "By default, this notebook exports images to Google Drive. If you instead prefer to export images to Google Cloud Storage (GCS), change the `EXPORT` constant below to `'gcs'` and set `BUCKET` to the desired GCS bucket name. The images are exported to the following locations:\n",
    "\n",
    "|       | Google Drive (default) | GCS\n",
    "|-------|:-----------------------|:---\n",
    "| DHS   | `dhs_tfrecords_raw/`   | `{BUCKET}/dhs_tfrecords_raw/`\n",
    "| DHSNL | `dhsnl_tfrecords_raw/` | `{BUCKET}/dhsnl_tfrecords_raw/`\n",
    "| LSMS  | `lsms_tfrecords_raw/`  | `{BUCKET}/lsms_tfrecords_raw/`\n",
    "\n",
    "Once the images have finished exporting, download the exported TFRecord files to the following folders:\n",
    "\n",
    "- DHS: `data/dhs_tfrecords_raw/`\n",
    "- DHSNL: `data/dhsnl_tfrecords_raw/`\n",
    "- LSMS: `data/lsms_tfrecords_raw/`\n",
    "\n",
    "After downloading the TFRecord files, the `data/` directory should look as follows, where `XX` depends on the `CHUNK_SIZE` parameter used:\n",
    "\n",
    "```\n",
    "data/\n",
    "    dhs_tfrecords_raw/\n",
    "        angola_2011_00.tfrecord.gz\n",
    "        ...\n",
    "        zimbabwe_2015_XX.tfrecord.gz\n",
    "    dhsnl_tfrecords_raw/\n",
    "        angola_2010_00.tfrecord.gz\n",
    "        ...\n",
    "        zimbabwe_2016_XX.tfrecord.gz\n",
    "    lsms_tfrecords_raw/\n",
    "        ethiopia_2011_00.tfrecord.gz\n",
    "        ...\n",
    "        uganda_2013_XX.tfrecord.gz\n",
    "```\n",
    "\n",
    "After finishing this notebook, move on to [1_process_tfrecords.ipynb](./1_process_tfrecords.ipynb) for next steps."
   ]
  },
  {
   "cell_type": "markdown",
   "metadata": {},
   "source": [
    "## Imports and Constants"
   ]
  },
  {
   "cell_type": "code",
   "execution_count": 1,
   "metadata": {},
   "outputs": [
    {
     "name": "stdout",
     "output_type": "stream",
     "text": [
      "/Users/eivindhammers/GitHub/africa_poverty_clean\n",
      "/Users/eivindhammers/GitHub/africa_poverty_clean\n"
     ]
    }
   ],
   "source": [
    "%load_ext autoreload\n",
    "%autoreload 2\n",
    "\n",
    "# change directory to repo root, and verify\n",
    "%cd '~/GitHub/africa_poverty_clean'\n",
    "!pwd"
   ]
  },
  {
   "cell_type": "code",
   "execution_count": 2,
   "metadata": {},
   "outputs": [],
   "source": [
    "from __future__ import annotations\n",
    "\n",
    "import math\n",
    "from typing import Any, Optional\n",
    "\n",
    "import ee\n",
    "import pandas as pd\n",
    "\n",
    "from preprocessing import ee_utils"
   ]
  },
  {
   "cell_type": "markdown",
   "metadata": {},
   "source": [
    "Before using the Earth Engine API, you must perform a one-time authentication that authorizes access to Earth Engine on behalf of your Google account you registered at [https://code.earthengine.google.com](https://code.earthengine.google.com). The authentication process saves a credentials file to `$HOME/.config/earthengine/credentials` for future use.\n",
    "\n",
    "The following command `ee.Authenticate()` runs the authentication process. Once you successfully authenticate, you may comment out this command because you should not need to authenticate again in the future, unless you delete the credentials file. If you do not authenticate, the subsequent `ee.Initialize()` command below will fail.\n",
    "\n",
    "For more information, see [https://developers.google.com/earth-engine/python_install-conda.html](https://developers.google.com/earth-engine/python_install-conda.html)."
   ]
  },
  {
   "cell_type": "code",
   "execution_count": 3,
   "metadata": {},
   "outputs": [
    {
     "data": {
      "text/html": [
       "<p>To authorize access needed by Earth Engine, open the following\n",
       "        URL in a web browser and follow the instructions:</p>\n",
       "        <p><a href=https://code.earthengine.google.com/client-auth?scopes=https%3A//www.googleapis.com/auth/earthengine%20https%3A//www.googleapis.com/auth/devstorage.full_control&request_id=dMP3mf4Ooj2eXQ04hQzX7gZS4oAoxuyIrIDiGjlm_Jk&tc=1PxMr73r7PQYSq8O816w-6CH1HSNANtPFGVK9XOpAzI&cc=mjILIH57P-uXwsAvyHdUJQv66wd_BoInDnMFuIcbP6k>https://code.earthengine.google.com/client-auth?scopes=https%3A//www.googleapis.com/auth/earthengine%20https%3A//www.googleapis.com/auth/devstorage.full_control&request_id=dMP3mf4Ooj2eXQ04hQzX7gZS4oAoxuyIrIDiGjlm_Jk&tc=1PxMr73r7PQYSq8O816w-6CH1HSNANtPFGVK9XOpAzI&cc=mjILIH57P-uXwsAvyHdUJQv66wd_BoInDnMFuIcbP6k</a></p>\n",
       "        <p>The authorization workflow will generate a code, which you should paste in the box below.</p>\n",
       "        "
      ],
      "text/plain": [
       "<IPython.core.display.HTML object>"
      ]
     },
     "metadata": {},
     "output_type": "display_data"
    },
    {
     "name": "stdin",
     "output_type": "stream",
     "text": [
      "Enter verification code:  4/1AWtgzh5lyeFc3e8cepKo08RHq3xJSIi0A-58ztR5SWZWUOnd5wkcRdDZQ5M\n"
     ]
    },
    {
     "name": "stdout",
     "output_type": "stream",
     "text": [
      "\n",
      "Successfully saved authorization token.\n"
     ]
    }
   ],
   "source": [
    "ee.Authenticate()"
   ]
  },
  {
   "cell_type": "code",
   "execution_count": 4,
   "metadata": {},
   "outputs": [],
   "source": [
    "ee.Initialize()  # initialize the Earth Engine API"
   ]
  },
  {
   "cell_type": "markdown",
   "metadata": {},
   "source": [
    "## Constants"
   ]
  },
  {
   "cell_type": "code",
   "execution_count": 15,
   "metadata": {},
   "outputs": [],
   "source": [
    "# ========== ADAPT THESE PARAMETERS ==========\n",
    "\n",
    "# To export to Google Drive, uncomment the next 2 lines\n",
    "EXPORT = 'drive'\n",
    "BUCKET = None\n",
    "\n",
    "# To export to Google Cloud Storage (GCS), uncomment the next 2 lines\n",
    "# and set the bucket to the desired bucket name\n",
    "# EXPORT = 'gcs'\n",
    "# BUCKET = 'mybucket'\n",
    "\n",
    "# export location parameters\n",
    "DHS_EXPORT_FOLDER = 'dhs_tfrecords_raw_remaining'\n",
    "DHSNL_EXPORT_FOLDER = 'dhsnl_tfrecords_raw_remaining'\n",
    "LSMS_EXPORT_FOLDER = 'lsms_tfrecords_raw'\n",
    "\n",
    "# Set CHUNK_SIZE to None to export a single TFRecord file per (country, year). However,\n",
    "# this may fail if it exceeds Google Earth Engine memory limits. Decrease CHUNK_SIZE\n",
    "# to a small number (<= 50) until Google Earth Engine stops reporting memory errors\n",
    "CHUNK_SIZE = 5"
   ]
  },
  {
   "cell_type": "code",
   "execution_count": 16,
   "metadata": {},
   "outputs": [],
   "source": [
    "# ========== DO NOT MODIFY THESE ==========\n",
    "\n",
    "# input data paths\n",
    "DHS_CSV_PATH = 'data/dhs_clusters_remaining.csv'\n",
    "DHSNL_CSV_PATH = 'data/dhsnl_locs_remaining.csv'\n",
    "LSMS_CSV_PATH = 'data/lsms_clusters_remaining.csv'\n",
    "\n",
    "# band names\n",
    "MS_BANDS = ['BLUE', 'GREEN', 'RED', 'NIR', 'SWIR1', 'SWIR2', 'TEMP1']\n",
    "\n",
    "# image parameters\n",
    "PROJECTION = 'EPSG:3857'  # see https://epsg.io/3857\n",
    "SCALE = 30                # export resolution: 30m/px\n",
    "EXPORT_TILE_RADIUS = 127  # image dimension = (2*EXPORT_TILE_RADIUS) + 1 = 255px"
   ]
  },
  {
   "cell_type": "markdown",
   "metadata": {},
   "source": [
    "## Export Images"
   ]
  },
  {
   "cell_type": "code",
   "execution_count": 17,
   "metadata": {},
   "outputs": [],
   "source": [
    "def export_images(df: pd.DataFrame,\n",
    "                  country: str,\n",
    "                  year: int,\n",
    "                  export_folder: str,\n",
    "                  chunk_size: Optional[int] = None\n",
    "                  ) -> dict[tuple[str, str, int, int], ee.batch.Task]:\n",
    "    '''\n",
    "    Args\n",
    "    - df: pd.DataFrame, contains columns ['lat', 'lon', 'country', 'year']\n",
    "    - country: str, together with `year` determines the survey to export\n",
    "    - year: int, together with `country` determines the survey to export\n",
    "    - export_folder: str, name of folder for export\n",
    "    - chunk_size: int, optionally set a limit to the # of images exported per TFRecord file\n",
    "        - set to a small number (<= 50) if Google Earth Engine reports memory errors\n",
    "\n",
    "    Returns: dict, maps task name tuple (export_folder, country, year, chunk) to ee.batch.Task\n",
    "    '''\n",
    "    subset_df = df[(df['country'] == country) & (df['year'] == year)].reset_index(drop=True)\n",
    "    if chunk_size is None:\n",
    "        chunk_size = len(subset_df)\n",
    "    num_chunks = int(math.ceil(len(subset_df) / chunk_size))\n",
    "    tasks = {}\n",
    "\n",
    "    for i in range(num_chunks):\n",
    "        chunk_slice = slice(i * chunk_size, (i+1) * chunk_size - 1)  # df.loc[] is inclusive\n",
    "        fc = ee_utils.df_to_fc(subset_df.loc[chunk_slice, :])\n",
    "        start_date, end_date = ee_utils.surveyyear_to_range(year)\n",
    "\n",
    "        # create 3-year Landsat composite image\n",
    "        roi = fc.geometry()\n",
    "        imgcol = ee_utils.LandsatSR(roi, start_date=start_date, end_date=end_date).merged\n",
    "        imgcol = imgcol.map(ee_utils.mask_qaclear).select(MS_BANDS)\n",
    "        img = imgcol.median()\n",
    "\n",
    "        # add nightlights, latitude, and longitude bands\n",
    "        img = ee_utils.add_latlon(img)\n",
    "        img = img.addBands(ee_utils.composite_nl(year))\n",
    "\n",
    "        fname = f'{country}_{year}_{i:02d}'\n",
    "        tasks[(export_folder, country, year, i)] = ee_utils.get_array_patches(\n",
    "            img=img, scale=SCALE, ksize=EXPORT_TILE_RADIUS,\n",
    "            points=fc, export=EXPORT,\n",
    "            prefix=export_folder, fname=fname,\n",
    "            bucket=BUCKET)\n",
    "    return tasks"
   ]
  },
  {
   "cell_type": "code",
   "execution_count": 18,
   "metadata": {},
   "outputs": [],
   "source": [
    "tasks: dict[tuple[str, str, int, int], ee.batch.Task] = {}"
   ]
  },
  {
   "cell_type": "code",
   "execution_count": 19,
   "metadata": {},
   "outputs": [],
   "source": [
    "dhs_df = pd.read_csv(DHS_CSV_PATH, float_precision='high', index_col=False)\n",
    "dhs_surveys = list(dhs_df.groupby(['country', 'year']).groups.keys())\n",
    "\n",
    "for country, year in dhs_surveys:\n",
    "    new_tasks = export_images(\n",
    "        df=dhs_df, country=country, year=year,\n",
    "        export_folder=DHS_EXPORT_FOLDER, chunk_size=CHUNK_SIZE)\n",
    "    tasks.update(new_tasks)"
   ]
  },
  {
   "cell_type": "code",
   "execution_count": 20,
   "metadata": {},
   "outputs": [],
   "source": [
    "#dhsnl_df = pd.read_csv(DHSNL_CSV_PATH, float_precision='high', index_col=False)\n",
    "#dhsnl_surveys = list(dhsnl_df.groupby(['country', 'year']).groups.keys())\n",
    "\n",
    "#for country, year in dhsnl_surveys:\n",
    "#    new_tasks = export_images(\n",
    "#        df=dhsnl_df, country=country, year=year,\n",
    "#        export_folder=DHSNL_EXPORT_FOLDER, chunk_size=CHUNK_SIZE)\n",
    "#    tasks.update(new_tasks)"
   ]
  },
  {
   "cell_type": "code",
   "execution_count": 21,
   "metadata": {},
   "outputs": [],
   "source": [
    "#lsms_df = pd.read_csv(LSMS_CSV_PATH, float_precision='high', index_col=False)\n",
    "#lsms_surveys = list(lsms_df.groupby(['country', 'year']).groups.keys())\n",
    "\n",
    "#for country, year in lsms_surveys:\n",
    "#    new_tasks = export_images(\n",
    "#        df=lsms_df, country=country, year=year,\n",
    "#        export_folder=LSMS_EXPORT_FOLDER, chunk_size=CHUNK_SIZE)\n",
    "#    tasks.update(new_tasks)"
   ]
  },
  {
   "cell_type": "markdown",
   "metadata": {},
   "source": [
    "Check on the status of each export task at [https://code.earthengine.google.com/](https://code.earthengine.google.com/), or run the following cell which checks every minute. Once all tasks have completed, download the DHS TFRecord files to `data/dhs_tfrecords_raw/`, DHSNL TFRecord files to `data/dhsnl_tfrecords_raw/`, and LSMS TFRecord files to `data/lsms_tfrecords_raw/`."
   ]
  },
  {
   "cell_type": "code",
   "execution_count": 22,
   "metadata": {
    "scrolled": true,
    "tags": []
   },
   "outputs": [
    {
     "data": {
      "application/vnd.jupyter.widget-view+json": {
       "model_id": "59c02abb3dbf4b5abda70bba3f5e1dbe",
       "version_major": 2,
       "version_minor": 0
      },
      "text/plain": [
       "  0%|          | 0/125 [00:00<?, ?it/s]"
      ]
     },
     "metadata": {},
     "output_type": "display_data"
    },
    {
     "name": "stdout",
     "output_type": "stream",
     "text": [
      "Task ('dhs_tfrecords_raw_remaining', 'ethiopia', 2016, 0) finished in 0 min with state: COMPLETED\n",
      "Task ('dhs_tfrecords_raw_remaining', 'ethiopia', 2016, 1) finished in 0 min with state: COMPLETED\n",
      "Task ('dhs_tfrecords_raw_remaining', 'ethiopia', 2016, 2) finished in 0 min with state: COMPLETED\n",
      "Task ('dhs_tfrecords_raw_remaining', 'ethiopia', 2016, 3) finished in 0 min with state: COMPLETED\n",
      "Task ('dhs_tfrecords_raw_remaining', 'ethiopia', 2016, 4) finished in 1 min with state: COMPLETED\n",
      "Task ('dhs_tfrecords_raw_remaining', 'ethiopia', 2016, 5) finished in 0 min with state: COMPLETED\n",
      "Task ('dhs_tfrecords_raw_remaining', 'ethiopia', 2016, 6) finished in 0 min with state: COMPLETED\n",
      "Task ('dhs_tfrecords_raw_remaining', 'ethiopia', 2016, 7) finished in 0 min with state: COMPLETED\n",
      "Task ('dhs_tfrecords_raw_remaining', 'ethiopia', 2016, 8) finished in 0 min with state: COMPLETED\n",
      "Task ('dhs_tfrecords_raw_remaining', 'ethiopia', 2016, 9) finished in 0 min with state: COMPLETED\n",
      "Task ('dhs_tfrecords_raw_remaining', 'ethiopia', 2016, 10) finished in 0 min with state: COMPLETED\n",
      "Task ('dhs_tfrecords_raw_remaining', 'ethiopia', 2016, 11) finished in 0 min with state: COMPLETED\n",
      "Task ('dhs_tfrecords_raw_remaining', 'ethiopia', 2016, 12) finished in 0 min with state: COMPLETED\n",
      "Task ('dhs_tfrecords_raw_remaining', 'ethiopia', 2016, 13) finished in 0 min with state: COMPLETED\n",
      "Task ('dhs_tfrecords_raw_remaining', 'ethiopia', 2016, 14) finished in 0 min with state: COMPLETED\n",
      "Task ('dhs_tfrecords_raw_remaining', 'ethiopia', 2016, 15) finished in 0 min with state: COMPLETED\n",
      "Task ('dhs_tfrecords_raw_remaining', 'ethiopia', 2016, 16) finished in 1 min with state: COMPLETED\n",
      "Task ('dhs_tfrecords_raw_remaining', 'ethiopia', 2016, 17) finished in 1 min with state: COMPLETED\n",
      "Task ('dhs_tfrecords_raw_remaining', 'ethiopia', 2016, 18) finished in 1 min with state: COMPLETED\n",
      "Task ('dhs_tfrecords_raw_remaining', 'ethiopia', 2016, 19) finished in 0 min with state: COMPLETED\n",
      "Task ('dhs_tfrecords_raw_remaining', 'ethiopia', 2016, 20) finished in 1 min with state: COMPLETED\n",
      "Task ('dhs_tfrecords_raw_remaining', 'ethiopia', 2016, 21) finished in 1 min with state: COMPLETED\n",
      "Task ('dhs_tfrecords_raw_remaining', 'ethiopia', 2016, 22) finished in 1 min with state: COMPLETED\n",
      "Task ('dhs_tfrecords_raw_remaining', 'ethiopia', 2016, 23) finished in 1 min with state: COMPLETED\n",
      "Task ('dhs_tfrecords_raw_remaining', 'ethiopia', 2016, 24) finished in 1 min with state: COMPLETED\n",
      "Task ('dhs_tfrecords_raw_remaining', 'ethiopia', 2016, 25) finished in 1 min with state: COMPLETED\n",
      "Task ('dhs_tfrecords_raw_remaining', 'ethiopia', 2016, 26) finished in 1 min with state: COMPLETED\n",
      "Task ('dhs_tfrecords_raw_remaining', 'ethiopia', 2016, 27) finished in 1 min with state: COMPLETED\n",
      "Task ('dhs_tfrecords_raw_remaining', 'ethiopia', 2016, 28) finished in 1 min with state: COMPLETED\n",
      "Task ('dhs_tfrecords_raw_remaining', 'ethiopia', 2016, 29) finished in 1 min with state: COMPLETED\n",
      "Task ('dhs_tfrecords_raw_remaining', 'ethiopia', 2016, 30) finished in 1 min with state: COMPLETED\n",
      "Task ('dhs_tfrecords_raw_remaining', 'ethiopia', 2016, 31) finished in 1 min with state: COMPLETED\n",
      "Task ('dhs_tfrecords_raw_remaining', 'ethiopia', 2016, 32) finished in 1 min with state: COMPLETED\n",
      "Task ('dhs_tfrecords_raw_remaining', 'ethiopia', 2016, 33) finished in 1 min with state: COMPLETED\n",
      "Task ('dhs_tfrecords_raw_remaining', 'ethiopia', 2016, 34) finished in 1 min with state: COMPLETED\n",
      "Task ('dhs_tfrecords_raw_remaining', 'ethiopia', 2016, 35) finished in 1 min with state: COMPLETED\n",
      "Task ('dhs_tfrecords_raw_remaining', 'ethiopia', 2016, 36) finished in 1 min with state: COMPLETED\n",
      "Task ('dhs_tfrecords_raw_remaining', 'ethiopia', 2016, 37) finished in 1 min with state: COMPLETED\n",
      "Task ('dhs_tfrecords_raw_remaining', 'ethiopia', 2016, 38) finished in 2 min with state: COMPLETED\n",
      "Task ('dhs_tfrecords_raw_remaining', 'ethiopia', 2016, 39) finished in 1 min with state: COMPLETED\n",
      "Task ('dhs_tfrecords_raw_remaining', 'ethiopia', 2016, 40) finished in 1 min with state: COMPLETED\n",
      "Task ('dhs_tfrecords_raw_remaining', 'ethiopia', 2016, 41) finished in 1 min with state: COMPLETED\n",
      "Task ('dhs_tfrecords_raw_remaining', 'ethiopia', 2016, 43) finished in 2 min with state: COMPLETED\n",
      "Task ('dhs_tfrecords_raw_remaining', 'ethiopia', 2016, 44) finished in 1 min with state: COMPLETED\n",
      "Task ('dhs_tfrecords_raw_remaining', 'ethiopia', 2016, 45) finished in 2 min with state: COMPLETED\n",
      "Task ('dhs_tfrecords_raw_remaining', 'ethiopia', 2016, 46) finished in 1 min with state: COMPLETED\n",
      "Task ('dhs_tfrecords_raw_remaining', 'ethiopia', 2016, 47) finished in 2 min with state: COMPLETED\n",
      "Task ('dhs_tfrecords_raw_remaining', 'ethiopia', 2016, 49) finished in 1 min with state: COMPLETED\n",
      "Task ('dhs_tfrecords_raw_remaining', 'ethiopia', 2016, 50) finished in 2 min with state: COMPLETED\n",
      "Task ('dhs_tfrecords_raw_remaining', 'ethiopia', 2016, 54) finished in 1 min with state: COMPLETED\n",
      "Task ('dhs_tfrecords_raw_remaining', 'ethiopia', 2016, 59) finished in 2 min with state: COMPLETED\n",
      "Task ('dhs_tfrecords_raw_remaining', 'ethiopia', 2016, 42) finished in 2 min with state: COMPLETED\n",
      "Task ('dhs_tfrecords_raw_remaining', 'ethiopia', 2016, 48) finished in 2 min with state: COMPLETED\n",
      "Task ('dhs_tfrecords_raw_remaining', 'ethiopia', 2016, 51) finished in 2 min with state: COMPLETED\n",
      "Task ('dhs_tfrecords_raw_remaining', 'ethiopia', 2016, 52) finished in 2 min with state: COMPLETED\n",
      "Task ('dhs_tfrecords_raw_remaining', 'ethiopia', 2016, 53) finished in 2 min with state: COMPLETED\n",
      "Task ('dhs_tfrecords_raw_remaining', 'ethiopia', 2016, 55) finished in 2 min with state: COMPLETED\n",
      "Task ('dhs_tfrecords_raw_remaining', 'ethiopia', 2016, 56) finished in 2 min with state: COMPLETED\n",
      "Task ('dhs_tfrecords_raw_remaining', 'ethiopia', 2016, 57) finished in 2 min with state: COMPLETED\n",
      "Task ('dhs_tfrecords_raw_remaining', 'ethiopia', 2016, 58) finished in 2 min with state: COMPLETED\n",
      "Task ('dhs_tfrecords_raw_remaining', 'ethiopia', 2016, 60) finished in 2 min with state: COMPLETED\n",
      "Task ('dhs_tfrecords_raw_remaining', 'ethiopia', 2016, 61) finished in 2 min with state: COMPLETED\n",
      "Task ('dhs_tfrecords_raw_remaining', 'ethiopia', 2016, 62) finished in 2 min with state: COMPLETED\n",
      "Task ('dhs_tfrecords_raw_remaining', 'ethiopia', 2016, 63) finished in 2 min with state: COMPLETED\n",
      "Task ('dhs_tfrecords_raw_remaining', 'ethiopia', 2016, 64) finished in 2 min with state: COMPLETED\n",
      "Task ('dhs_tfrecords_raw_remaining', 'ethiopia', 2016, 65) finished in 2 min with state: COMPLETED\n",
      "Task ('dhs_tfrecords_raw_remaining', 'ethiopia', 2016, 66) finished in 2 min with state: COMPLETED\n",
      "Task ('dhs_tfrecords_raw_remaining', 'ethiopia', 2016, 67) finished in 2 min with state: COMPLETED\n",
      "Task ('dhs_tfrecords_raw_remaining', 'ethiopia', 2016, 68) finished in 2 min with state: COMPLETED\n",
      "Task ('dhs_tfrecords_raw_remaining', 'ethiopia', 2016, 69) finished in 2 min with state: COMPLETED\n",
      "Task ('dhs_tfrecords_raw_remaining', 'ethiopia', 2016, 70) finished in 2 min with state: COMPLETED\n",
      "Task ('dhs_tfrecords_raw_remaining', 'ethiopia', 2016, 71) finished in 2 min with state: COMPLETED\n",
      "Task ('dhs_tfrecords_raw_remaining', 'ethiopia', 2016, 72) finished in 2 min with state: COMPLETED\n",
      "Task ('dhs_tfrecords_raw_remaining', 'ethiopia', 2016, 73) finished in 2 min with state: COMPLETED\n",
      "Task ('dhs_tfrecords_raw_remaining', 'ethiopia', 2016, 74) finished in 2 min with state: COMPLETED\n",
      "Task ('dhs_tfrecords_raw_remaining', 'ethiopia', 2016, 75) finished in 2 min with state: COMPLETED\n",
      "Task ('dhs_tfrecords_raw_remaining', 'ethiopia', 2016, 76) finished in 2 min with state: COMPLETED\n",
      "Task ('dhs_tfrecords_raw_remaining', 'ethiopia', 2016, 77) finished in 2 min with state: COMPLETED\n",
      "Task ('dhs_tfrecords_raw_remaining', 'ethiopia', 2016, 78) finished in 2 min with state: COMPLETED\n",
      "Task ('dhs_tfrecords_raw_remaining', 'ethiopia', 2016, 79) finished in 2 min with state: COMPLETED\n",
      "Task ('dhs_tfrecords_raw_remaining', 'ethiopia', 2016, 80) finished in 2 min with state: COMPLETED\n",
      "Task ('dhs_tfrecords_raw_remaining', 'ethiopia', 2016, 81) finished in 2 min with state: COMPLETED\n",
      "Task ('dhs_tfrecords_raw_remaining', 'ethiopia', 2016, 82) finished in 3 min with state: COMPLETED\n",
      "Task ('dhs_tfrecords_raw_remaining', 'ethiopia', 2016, 83) finished in 2 min with state: COMPLETED\n",
      "Task ('dhs_tfrecords_raw_remaining', 'ethiopia', 2016, 84) finished in 2 min with state: COMPLETED\n",
      "Task ('dhs_tfrecords_raw_remaining', 'ethiopia', 2016, 85) finished in 2 min with state: COMPLETED\n",
      "Task ('dhs_tfrecords_raw_remaining', 'ethiopia', 2016, 86) finished in 2 min with state: COMPLETED\n",
      "Task ('dhs_tfrecords_raw_remaining', 'ethiopia', 2016, 87) finished in 2 min with state: COMPLETED\n",
      "Task ('dhs_tfrecords_raw_remaining', 'ethiopia', 2016, 88) finished in 3 min with state: COMPLETED\n",
      "Task ('dhs_tfrecords_raw_remaining', 'ethiopia', 2016, 89) finished in 2 min with state: COMPLETED\n",
      "Task ('dhs_tfrecords_raw_remaining', 'ethiopia', 2016, 90) finished in 3 min with state: COMPLETED\n",
      "Task ('dhs_tfrecords_raw_remaining', 'ethiopia', 2016, 91) finished in 3 min with state: COMPLETED\n",
      "Task ('dhs_tfrecords_raw_remaining', 'ethiopia', 2016, 92) finished in 3 min with state: COMPLETED\n",
      "Task ('dhs_tfrecords_raw_remaining', 'ethiopia', 2016, 93) finished in 3 min with state: COMPLETED\n",
      "Task ('dhs_tfrecords_raw_remaining', 'ethiopia', 2016, 94) finished in 3 min with state: COMPLETED\n",
      "Task ('dhs_tfrecords_raw_remaining', 'ethiopia', 2016, 95) finished in 3 min with state: COMPLETED\n",
      "Task ('dhs_tfrecords_raw_remaining', 'ethiopia', 2016, 96) finished in 3 min with state: COMPLETED\n",
      "Task ('dhs_tfrecords_raw_remaining', 'ethiopia', 2016, 97) finished in 3 min with state: COMPLETED\n",
      "Task ('dhs_tfrecords_raw_remaining', 'ethiopia', 2016, 98) finished in 3 min with state: COMPLETED\n",
      "Task ('dhs_tfrecords_raw_remaining', 'ethiopia', 2016, 99) finished in 3 min with state: COMPLETED\n",
      "Task ('dhs_tfrecords_raw_remaining', 'ethiopia', 2016, 100) finished in 3 min with state: COMPLETED\n",
      "Task ('dhs_tfrecords_raw_remaining', 'ethiopia', 2016, 101) finished in 3 min with state: COMPLETED\n",
      "Task ('dhs_tfrecords_raw_remaining', 'ethiopia', 2016, 102) finished in 3 min with state: COMPLETED\n",
      "Task ('dhs_tfrecords_raw_remaining', 'ethiopia', 2016, 103) finished in 3 min with state: COMPLETED\n",
      "Task ('dhs_tfrecords_raw_remaining', 'ethiopia', 2016, 112) finished in 3 min with state: COMPLETED\n",
      "Task ('dhs_tfrecords_raw_remaining', 'ethiopia', 2016, 104) finished in 4 min with state: COMPLETED\n",
      "Task ('dhs_tfrecords_raw_remaining', 'ethiopia', 2016, 105) finished in 4 min with state: COMPLETED\n",
      "Task ('dhs_tfrecords_raw_remaining', 'ethiopia', 2016, 106) finished in 4 min with state: COMPLETED\n",
      "Task ('dhs_tfrecords_raw_remaining', 'ethiopia', 2016, 107) finished in 3 min with state: COMPLETED\n",
      "Task ('dhs_tfrecords_raw_remaining', 'ethiopia', 2016, 108) finished in 4 min with state: COMPLETED\n",
      "Task ('dhs_tfrecords_raw_remaining', 'ethiopia', 2016, 109) finished in 4 min with state: COMPLETED\n",
      "Task ('dhs_tfrecords_raw_remaining', 'ethiopia', 2016, 110) finished in 3 min with state: COMPLETED\n",
      "Task ('dhs_tfrecords_raw_remaining', 'ethiopia', 2016, 111) finished in 4 min with state: COMPLETED\n",
      "Task ('dhs_tfrecords_raw_remaining', 'ethiopia', 2016, 113) finished in 4 min with state: COMPLETED\n",
      "Task ('dhs_tfrecords_raw_remaining', 'ethiopia', 2016, 114) finished in 4 min with state: COMPLETED\n",
      "Task ('dhs_tfrecords_raw_remaining', 'ethiopia', 2016, 115) finished in 4 min with state: COMPLETED\n",
      "Task ('dhs_tfrecords_raw_remaining', 'ethiopia', 2016, 116) finished in 4 min with state: COMPLETED\n",
      "Task ('dhs_tfrecords_raw_remaining', 'ethiopia', 2016, 117) finished in 3 min with state: COMPLETED\n",
      "Task ('dhs_tfrecords_raw_remaining', 'ethiopia', 2016, 118) finished in 4 min with state: COMPLETED\n",
      "Task ('dhs_tfrecords_raw_remaining', 'ethiopia', 2016, 119) finished in 4 min with state: COMPLETED\n",
      "Task ('dhs_tfrecords_raw_remaining', 'ethiopia', 2016, 120) finished in 4 min with state: COMPLETED\n",
      "Task ('dhs_tfrecords_raw_remaining', 'ethiopia', 2016, 121) finished in 4 min with state: COMPLETED\n",
      "Task ('dhs_tfrecords_raw_remaining', 'ethiopia', 2016, 122) finished in 4 min with state: COMPLETED\n",
      "Task ('dhs_tfrecords_raw_remaining', 'ethiopia', 2016, 123) finished in 4 min with state: COMPLETED\n",
      "Task ('dhs_tfrecords_raw_remaining', 'ethiopia', 2016, 124) finished in 4 min with state: COMPLETED\n"
     ]
    }
   ],
   "source": [
    "ee_utils.wait_on_tasks(tasks, poll_interval=60)"
   ]
  },
  {
   "cell_type": "code",
   "execution_count": null,
   "metadata": {},
   "outputs": [],
   "source": []
  }
 ],
 "metadata": {
  "kernelspec": {
   "display_name": "Python [conda env:r3py3] *",
   "language": "python",
   "name": "conda-env-r3py3-py"
  },
  "language_info": {
   "codemirror_mode": {
    "name": "ipython",
    "version": 3
   },
   "file_extension": ".py",
   "mimetype": "text/x-python",
   "name": "python",
   "nbconvert_exporter": "python",
   "pygments_lexer": "ipython3",
   "version": "3.10.8"
  },
  "toc": {
   "base_numbering": 1,
   "nav_menu": {},
   "number_sections": true,
   "sideBar": true,
   "skip_h1_title": false,
   "title_cell": "Table of Contents",
   "title_sidebar": "Contents",
   "toc_cell": true,
   "toc_position": {},
   "toc_section_display": true,
   "toc_window_display": true
  }
 },
 "nbformat": 4,
 "nbformat_minor": 4
}
