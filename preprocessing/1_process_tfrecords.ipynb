{
 "cells": [
  {
   "cell_type": "markdown",
   "metadata": {
    "toc": true
   },
   "source": [
    "<h1>Table of Contents<span class=\"tocSkip\"></span></h1>\n",
    "<div class=\"toc\"><ul class=\"toc-item\"><li><span><a href=\"#Pre-requisites\" data-toc-modified-id=\"Pre-requisites-1\"><span class=\"toc-item-num\">1&nbsp;&nbsp;</span>Pre-requisites</a></span></li><li><span><a href=\"#Instructions\" data-toc-modified-id=\"Instructions-2\"><span class=\"toc-item-num\">2&nbsp;&nbsp;</span>Instructions</a></span></li><li><span><a href=\"#Imports-and-Constants\" data-toc-modified-id=\"Imports-and-Constants-3\"><span class=\"toc-item-num\">3&nbsp;&nbsp;</span>Imports and Constants</a></span></li><li><span><a href=\"#Validate-and-Split-Exported-TFRecords\" data-toc-modified-id=\"Validate-and-Split-Exported-TFRecords-4\"><span class=\"toc-item-num\">4&nbsp;&nbsp;</span>Validate and Split Exported TFRecords</a></span></li><li><span><a href=\"#Calculate-Mean-and-Std-Dev-for-Each-Band\" data-toc-modified-id=\"Calculate-Mean-and-Std-Dev-for-Each-Band-5\"><span class=\"toc-item-num\">5&nbsp;&nbsp;</span>Calculate Mean and Std-Dev for Each Band</a></span></li></ul></div>"
   ]
  },
  {
   "cell_type": "markdown",
   "metadata": {},
   "source": [
    "## Pre-requisites\n",
    "\n",
    "Go through the [`preprocessing/0_export_tfrecords.ipynb`](./0_export_tfrecords.ipynb) notebook.\n",
    "\n",
    "Before running this notebook, you should have the following structure under the `data/` directory:\n",
    "\n",
    "```\n",
    "data/\n",
    "    dhs_tfrecords_raw/\n",
    "        angola_2011_00.tfrecord.gz\n",
    "        ...\n",
    "        zimbabwe_2015_XX.tfrecord.gz\n",
    "    dhsnl_tfrecords_raw/\n",
    "        angola_2010_00.tfrecord.gz\n",
    "        ...\n",
    "        zimbabwe_2016_XX.tfrecord.gz\n",
    "    lsms_tfrecords_raw/\n",
    "        ethiopia_2011_00.tfrecord.gz\n",
    "        ...\n",
    "        uganda_2013_XX.tfrecord.gz\n",
    "```\n",
    "\n",
    "## Instructions\n",
    "\n",
    "This notebook processes the exported TFRecords as follows:\n",
    "1. Verifies that the fields in the TFRecords match the original CSV files.\n",
    "2. Splits each monolithic TFRecord file exported from Google Earth Engine into one file per record.\n",
    "\n",
    "After running this notebook, you should have three new folders (`dhs_tfrecords`, `dhsnl_tfrecords`, and `lsms_tfrecords`) under `data/`:\n",
    "\n",
    "```\n",
    "data/\n",
    "    dhs_tfrecords/\n",
    "        angola_2011/\n",
    "            00000.tfrecord.gz\n",
    "            ...\n",
    "            00229.tfrecord.gz\n",
    "        ...\n",
    "        zimbabwe_2015/\n",
    "            00000.tfrecord.gz\n",
    "            ...\n",
    "            00399.tfrecord.gz\n",
    "    dhsnl_tfrecords/\n",
    "        angola_2010/\n",
    "            00000.tfrecord.gz\n",
    "            ...\n",
    "            07734.tfrecord.gz\n",
    "        zimbabwe_2016/\n",
    "            00000.tfrecord.gz\n",
    "            ...\n",
    "            03584.tfrecord.gz\n",
    "    lsms_tfrecords/\n",
    "        ethiopia_2011/\n",
    "            00000.tfrecord.gz\n",
    "            ...\n",
    "            00326.tfrecord.gz\n",
    "        uganda_2013/\n",
    "            00000.tfrecord.gz\n",
    "            ...\n",
    "            00164.tfrecord.gz\n",
    "```\n",
    "\n",
    "This notebook also calculates the mean and standard deviation of each band across each of the 3 datasets."
   ]
  },
  {
   "cell_type": "markdown",
   "metadata": {},
   "source": [
    "## Imports and Constants"
   ]
  },
  {
   "cell_type": "code",
   "execution_count": 1,
   "metadata": {},
   "outputs": [
    {
     "name": "stdout",
     "output_type": "stream",
     "text": [
      "/Users/eivindhammers/GitHub/africa_poverty_clean\n",
      "/Users/eivindhammers/GitHub/africa_poverty_clean\n"
     ]
    }
   ],
   "source": [
    "%load_ext autoreload\n",
    "%autoreload 2\n",
    "\n",
    "# change directory to repo root, and verify\n",
    "%cd '~/Github/africa_poverty_clean'\n",
    "!pwd"
   ]
  },
  {
   "cell_type": "code",
   "execution_count": 12,
   "metadata": {},
   "outputs": [],
   "source": [
    "from __future__ import annotations\n",
    "\n",
    "from collections.abc import Iterable\n",
    "from glob import glob\n",
    "from pprint import pprint\n",
    "import os\n",
    "from typing import Optional\n",
    "\n",
    "import numpy as np\n",
    "import pandas as pd\n",
    "import tensorflow as tf\n",
    "from tqdm.auto import tqdm\n",
    "\n",
    "from batchers import batcher, tfrecord_paths_utils\n",
    "from preprocessing.helper import (\n",
    "    analyze_tfrecord_batch,\n",
    "    per_band_mean_std,\n",
    "    print_analysis_results)\n",
    "\n",
    "from natsort import natsorted"
   ]
  },
  {
   "cell_type": "code",
   "execution_count": 13,
   "metadata": {},
   "outputs": [],
   "source": [
    "REQUIRED_BANDS = [\n",
    "    'BLUE', 'GREEN', 'LAT', 'LON', 'NIGHTLIGHTS', 'NIR', 'RED',\n",
    "    'SWIR1', 'SWIR2', 'TEMP1']\n",
    "\n",
    "BANDS_ORDER = [\n",
    "    'BLUE', 'GREEN', 'RED', 'SWIR1', 'SWIR2', 'TEMP1', 'NIR',\n",
    "    'DMSP', 'VIIRS']\n",
    "\n",
    "DHS_EXPORT_FOLDER = 'data/dhs_tfrecords_raw'\n",
    "DHSNL_EXPORT_FOLDER = 'data/dhsnl_tfrecords_raw'\n",
    "LSMS_EXPORT_FOLDER = 'data/lsms_tfrecords_raw'\n",
    "\n",
    "DHS_PROCESSED_FOLDER = 'data/dhs_tfrecords'\n",
    "DHSNL_PROCESSED_FOLDER = 'data/dhsnl_tfrecords'\n",
    "LSMS_PROCESSED_FOLDER = 'data/lsms_tfrecords'"
   ]
  },
  {
   "cell_type": "markdown",
   "metadata": {},
   "source": [
    "## Validate and Split Exported TFRecords"
   ]
  },
  {
   "cell_type": "code",
   "execution_count": 14,
   "metadata": {},
   "outputs": [],
   "source": [
    "def process_dataset(csv_path: str, input_dir: str, processed_dir: str) -> None:\n",
    "    '''\n",
    "    Args\n",
    "    - csv_path: str, path to CSV of DHS or LSMS clusters\n",
    "    - input_dir: str, path to TFRecords exported from Google Earth Engine\n",
    "    - processed_dir: str, folder where to save processed TFRecords\n",
    "    '''\n",
    "    df = pd.read_csv(csv_path, float_precision='high', index_col=False)\n",
    "    surveys = list(df.groupby(['country', 'year']).groups.keys())  # (country, year) tuples\n",
    "\n",
    "    for country, year in surveys:\n",
    "        country_year = f'{country}_{year}'\n",
    "        print('Processing:', country_year)\n",
    "\n",
    "        tfrecord_paths = glob(os.path.join(input_dir, country_year + '*'))\n",
    "        tfrecord_paths = natsorted(tfrecord_paths)\n",
    "        out_dir = os.path.join(processed_dir, country_year)\n",
    "        os.makedirs(out_dir, exist_ok=True)\n",
    "        subset_df = df[(df['country'] == country) & (df['year'] == year)].reset_index(drop=True)\n",
    "        validate_and_split_tfrecords(\n",
    "            tfrecord_paths=tfrecord_paths, out_dir=out_dir, df=subset_df)\n",
    "\n",
    "\n",
    "def validate_and_split_tfrecords(\n",
    "        tfrecord_paths: Iterable[str],\n",
    "        out_dir: str,\n",
    "        df: pd.DataFrame\n",
    "        ) -> None:\n",
    "    '''Validates and splits a list of exported TFRecord files (for a\n",
    "    given country-year survey) into individual TFrecords, one per cluster.\n",
    "\n",
    "    \"Validating\" a TFRecord comprises of 2 parts\n",
    "    1) verifying that it contains the required bands\n",
    "    2) verifying that its other features match the values from the dataset CSV\n",
    "\n",
    "    Args\n",
    "    - tfrecord_paths: list of str, paths to exported TFRecords files\n",
    "    - out_dir: str, path to dir to save processed individual TFRecords\n",
    "    - df: pd.DataFrame, index is sequential and starts at 0\n",
    "    '''\n",
    "    # Create an iterator over the TFRecords file. The iterator yields\n",
    "    # the binary representations of Example messages as strings.\n",
    "    options = tf.io.TFRecordOptions(tf.compat.v1.io.TFRecordCompressionType.GZIP)\n",
    "\n",
    "    # cast float64 => float32 and str => bytes\n",
    "    for col in df.columns:\n",
    "        if df[col].dtype == np.float64:\n",
    "            df[col] = df[col].astype(np.float32)\n",
    "        elif df[col].dtype == object:  # pandas uses 'object' type for str\n",
    "            df[col] = df[col].astype(bytes)\n",
    "\n",
    "    i = 0\n",
    "    progbar = tqdm(total=len(df))\n",
    "\n",
    "    for tfrecord_path in tfrecord_paths:\n",
    "        iterator = tf.compat.v1.python_io.tf_record_iterator(tfrecord_path, options=options)\n",
    "        for record_str in iterator:\n",
    "            # parse into an actual Example message\n",
    "            ex = tf.train.Example.FromString(record_str)\n",
    "            feature_map = ex.features.feature\n",
    "\n",
    "            # verify required bands exist\n",
    "            for band in REQUIRED_BANDS:\n",
    "                assert band in feature_map, f'Band \"{band}\" not in record {i} of {tfrecord_path}'\n",
    "    \n",
    "            # compare feature map values against CSV values\n",
    "            csv_feats = df.loc[i, :].to_dict()\n",
    "            for col, val in csv_feats.items():\n",
    "                ft_type = feature_map[col].WhichOneof('kind')\n",
    "                ex_val = feature_map[col].__getattribute__(ft_type).value[0]\n",
    "                assert val == ex_val, f'Expected {col}={val}, but found {ex_val} instead'\n",
    "            \n",
    "            # serialize to string and write to file\n",
    "            out_path = os.path.join(out_dir, f'{i:05d}.tfrecord.gz')  # all surveys have < 1e6 clusters\n",
    "            with tf.io.TFRecordWriter(out_path, options=options) as writer:\n",
    "                writer.write(ex.SerializeToString())\n",
    "\n",
    "            i += 1\n",
    "            progbar.update(1)\n",
    "    progbar.close()"
   ]
  },
  {
   "cell_type": "code",
   "execution_count": 15,
   "metadata": {},
   "outputs": [
    {
     "name": "stdout",
     "output_type": "stream",
     "text": [
      "Processing: angola_2011\n"
     ]
    },
    {
     "data": {
      "application/vnd.jupyter.widget-view+json": {
       "model_id": "c4d923e176d84bf2a5aea312c6b1f38e",
       "version_major": 2,
       "version_minor": 0
      },
      "text/plain": [
       "  0%|          | 0/230 [00:00<?, ?it/s]"
      ]
     },
     "metadata": {},
     "output_type": "display_data"
    },
    {
     "name": "stdout",
     "output_type": "stream",
     "text": [
      "Processing: angola_2015\n"
     ]
    },
    {
     "data": {
      "application/vnd.jupyter.widget-view+json": {
       "model_id": "913fedb1e0a5484396c3555d551895be",
       "version_major": 2,
       "version_minor": 0
      },
      "text/plain": [
       "  0%|          | 0/625 [00:00<?, ?it/s]"
      ]
     },
     "metadata": {},
     "output_type": "display_data"
    },
    {
     "name": "stdout",
     "output_type": "stream",
     "text": [
      "Processing: benin_2012\n"
     ]
    },
    {
     "data": {
      "application/vnd.jupyter.widget-view+json": {
       "model_id": "f4338d21f7b94c3fb2366e6d733da355",
       "version_major": 2,
       "version_minor": 0
      },
      "text/plain": [
       "  0%|          | 0/746 [00:00<?, ?it/s]"
      ]
     },
     "metadata": {},
     "output_type": "display_data"
    },
    {
     "name": "stdout",
     "output_type": "stream",
     "text": [
      "Processing: burkina_faso_2010\n"
     ]
    },
    {
     "data": {
      "application/vnd.jupyter.widget-view+json": {
       "model_id": "b0b98233cf794d94be225a5b0d045c37",
       "version_major": 2,
       "version_minor": 0
      },
      "text/plain": [
       "  0%|          | 0/541 [00:00<?, ?it/s]"
      ]
     },
     "metadata": {},
     "output_type": "display_data"
    },
    {
     "name": "stdout",
     "output_type": "stream",
     "text": [
      "Processing: burkina_faso_2014\n"
     ]
    },
    {
     "data": {
      "application/vnd.jupyter.widget-view+json": {
       "model_id": "2207ff3032024da4a34987e77cae6d42",
       "version_major": 2,
       "version_minor": 0
      },
      "text/plain": [
       "  0%|          | 0/248 [00:00<?, ?it/s]"
      ]
     },
     "metadata": {},
     "output_type": "display_data"
    },
    {
     "name": "stdout",
     "output_type": "stream",
     "text": [
      "Processing: cameroon_2011\n"
     ]
    },
    {
     "data": {
      "application/vnd.jupyter.widget-view+json": {
       "model_id": "c25e84d0157544139fb123403c8eff1d",
       "version_major": 2,
       "version_minor": 0
      },
      "text/plain": [
       "  0%|          | 0/576 [00:00<?, ?it/s]"
      ]
     },
     "metadata": {},
     "output_type": "display_data"
    },
    {
     "name": "stdout",
     "output_type": "stream",
     "text": [
      "Processing: cote_d_ivoire_2012\n"
     ]
    },
    {
     "data": {
      "application/vnd.jupyter.widget-view+json": {
       "model_id": "68b56651d5fe4265b5e780c5c6d82103",
       "version_major": 2,
       "version_minor": 0
      },
      "text/plain": [
       "  0%|          | 0/341 [00:00<?, ?it/s]"
      ]
     },
     "metadata": {},
     "output_type": "display_data"
    },
    {
     "name": "stdout",
     "output_type": "stream",
     "text": [
      "Processing: democratic_republic_of_congo_2013\n"
     ]
    },
    {
     "data": {
      "application/vnd.jupyter.widget-view+json": {
       "model_id": "0a1ccd63686b4e74ad74d64916741141",
       "version_major": 2,
       "version_minor": 0
      },
      "text/plain": [
       "  0%|          | 0/492 [00:00<?, ?it/s]"
      ]
     },
     "metadata": {},
     "output_type": "display_data"
    },
    {
     "name": "stdout",
     "output_type": "stream",
     "text": [
      "Processing: ethiopia_2010\n"
     ]
    },
    {
     "data": {
      "application/vnd.jupyter.widget-view+json": {
       "model_id": "0dd6d0e7f9b74846904f3b16189da9ea",
       "version_major": 2,
       "version_minor": 0
      },
      "text/plain": [
       "  0%|          | 0/571 [00:00<?, ?it/s]"
      ]
     },
     "metadata": {},
     "output_type": "display_data"
    },
    {
     "name": "stdout",
     "output_type": "stream",
     "text": [
      "Processing: ethiopia_2016\n"
     ]
    },
    {
     "data": {
      "application/vnd.jupyter.widget-view+json": {
       "model_id": "89fd5ba0e8774d0db8bc62874adcf45f",
       "version_major": 2,
       "version_minor": 0
      },
      "text/plain": [
       "  0%|          | 0/622 [00:00<?, ?it/s]"
      ]
     },
     "metadata": {},
     "output_type": "display_data"
    },
    {
     "name": "stdout",
     "output_type": "stream",
     "text": [
      "Processing: ghana_2014\n"
     ]
    },
    {
     "data": {
      "application/vnd.jupyter.widget-view+json": {
       "model_id": "90e2e175a0204f1d94104c2310c6edec",
       "version_major": 2,
       "version_minor": 0
      },
      "text/plain": [
       "  0%|          | 0/422 [00:00<?, ?it/s]"
      ]
     },
     "metadata": {},
     "output_type": "display_data"
    },
    {
     "name": "stdout",
     "output_type": "stream",
     "text": [
      "Processing: ghana_2016\n"
     ]
    },
    {
     "data": {
      "application/vnd.jupyter.widget-view+json": {
       "model_id": "eb09106ce8a94cfca263f15a6f699270",
       "version_major": 2,
       "version_minor": 0
      },
      "text/plain": [
       "  0%|          | 0/192 [00:00<?, ?it/s]"
      ]
     },
     "metadata": {},
     "output_type": "display_data"
    },
    {
     "name": "stdout",
     "output_type": "stream",
     "text": [
      "Processing: guinea_2012\n"
     ]
    },
    {
     "data": {
      "application/vnd.jupyter.widget-view+json": {
       "model_id": "71b6188b92314deea758256046b01395",
       "version_major": 2,
       "version_minor": 0
      },
      "text/plain": [
       "  0%|          | 0/300 [00:00<?, ?it/s]"
      ]
     },
     "metadata": {},
     "output_type": "display_data"
    },
    {
     "name": "stdout",
     "output_type": "stream",
     "text": [
      "Processing: kenya_2014\n"
     ]
    },
    {
     "data": {
      "application/vnd.jupyter.widget-view+json": {
       "model_id": "756541d0a5fe4bfdb49df64046efccfc",
       "version_major": 2,
       "version_minor": 0
      },
      "text/plain": [
       "  0%|          | 0/1585 [00:00<?, ?it/s]"
      ]
     },
     "metadata": {},
     "output_type": "display_data"
    },
    {
     "name": "stdout",
     "output_type": "stream",
     "text": [
      "Processing: kenya_2015\n"
     ]
    },
    {
     "data": {
      "application/vnd.jupyter.widget-view+json": {
       "model_id": "ca6f76832f3b4ef0804a6167c9fe30fc",
       "version_major": 2,
       "version_minor": 0
      },
      "text/plain": [
       "  0%|          | 0/245 [00:00<?, ?it/s]"
      ]
     },
     "metadata": {},
     "output_type": "display_data"
    },
    {
     "name": "stdout",
     "output_type": "stream",
     "text": [
      "Processing: lesotho_2009\n"
     ]
    },
    {
     "data": {
      "application/vnd.jupyter.widget-view+json": {
       "model_id": "8d062275df064a78a100209468aaa272",
       "version_major": 2,
       "version_minor": 0
      },
      "text/plain": [
       "  0%|          | 0/395 [00:00<?, ?it/s]"
      ]
     },
     "metadata": {},
     "output_type": "display_data"
    },
    {
     "name": "stdout",
     "output_type": "stream",
     "text": [
      "Processing: lesotho_2014\n"
     ]
    },
    {
     "data": {
      "application/vnd.jupyter.widget-view+json": {
       "model_id": "2532fc73f0324784a12930f905cb7cee",
       "version_major": 2,
       "version_minor": 0
      },
      "text/plain": [
       "  0%|          | 0/399 [00:00<?, ?it/s]"
      ]
     },
     "metadata": {},
     "output_type": "display_data"
    },
    {
     "name": "stdout",
     "output_type": "stream",
     "text": [
      "Processing: malawi_2010\n"
     ]
    },
    {
     "data": {
      "application/vnd.jupyter.widget-view+json": {
       "model_id": "0c9a4a5624744083bc9f14927d51af06",
       "version_major": 2,
       "version_minor": 0
      },
      "text/plain": [
       "  0%|          | 0/827 [00:00<?, ?it/s]"
      ]
     },
     "metadata": {},
     "output_type": "display_data"
    },
    {
     "name": "stdout",
     "output_type": "stream",
     "text": [
      "Processing: malawi_2012\n"
     ]
    },
    {
     "data": {
      "application/vnd.jupyter.widget-view+json": {
       "model_id": "e7378d8209ae40e39a86de6a94da31a8",
       "version_major": 2,
       "version_minor": 0
      },
      "text/plain": [
       "  0%|          | 0/140 [00:00<?, ?it/s]"
      ]
     },
     "metadata": {},
     "output_type": "display_data"
    },
    {
     "name": "stdout",
     "output_type": "stream",
     "text": [
      "Processing: malawi_2014\n"
     ]
    },
    {
     "data": {
      "application/vnd.jupyter.widget-view+json": {
       "model_id": "20fa082accb84a47bf0be9a92a259912",
       "version_major": 2,
       "version_minor": 0
      },
      "text/plain": [
       "  0%|          | 0/140 [00:00<?, ?it/s]"
      ]
     },
     "metadata": {},
     "output_type": "display_data"
    },
    {
     "name": "stdout",
     "output_type": "stream",
     "text": [
      "Processing: malawi_2015\n"
     ]
    },
    {
     "data": {
      "application/vnd.jupyter.widget-view+json": {
       "model_id": "7030664449fb497591cb253a8ccb83fe",
       "version_major": 2,
       "version_minor": 0
      },
      "text/plain": [
       "  0%|          | 0/850 [00:00<?, ?it/s]"
      ]
     },
     "metadata": {},
     "output_type": "display_data"
    },
    {
     "name": "stdout",
     "output_type": "stream",
     "text": [
      "Processing: mali_2012\n"
     ]
    },
    {
     "data": {
      "application/vnd.jupyter.widget-view+json": {
       "model_id": "99889955b9e9472fae1de5ed72e506ef",
       "version_major": 2,
       "version_minor": 0
      },
      "text/plain": [
       "  0%|          | 0/413 [00:00<?, ?it/s]"
      ]
     },
     "metadata": {},
     "output_type": "display_data"
    },
    {
     "name": "stdout",
     "output_type": "stream",
     "text": [
      "Processing: mali_2015\n"
     ]
    },
    {
     "data": {
      "application/vnd.jupyter.widget-view+json": {
       "model_id": "7335c05118b841428a1f0ed892276cbc",
       "version_major": 2,
       "version_minor": 0
      },
      "text/plain": [
       "  0%|          | 0/177 [00:00<?, ?it/s]"
      ]
     },
     "metadata": {},
     "output_type": "display_data"
    },
    {
     "name": "stdout",
     "output_type": "stream",
     "text": [
      "Processing: mozambique_2009\n"
     ]
    },
    {
     "data": {
      "application/vnd.jupyter.widget-view+json": {
       "model_id": "69e0ab7f6b0e417790199ab92529bdf1",
       "version_major": 2,
       "version_minor": 0
      },
      "text/plain": [
       "  0%|          | 0/270 [00:00<?, ?it/s]"
      ]
     },
     "metadata": {},
     "output_type": "display_data"
    },
    {
     "name": "stdout",
     "output_type": "stream",
     "text": [
      "Processing: mozambique_2011\n"
     ]
    },
    {
     "data": {
      "application/vnd.jupyter.widget-view+json": {
       "model_id": "580b0963177b4cbe8ea55712f615614c",
       "version_major": 2,
       "version_minor": 0
      },
      "text/plain": [
       "  0%|          | 0/609 [00:00<?, ?it/s]"
      ]
     },
     "metadata": {},
     "output_type": "display_data"
    },
    {
     "name": "stdout",
     "output_type": "stream",
     "text": [
      "Processing: nigeria_2010\n"
     ]
    },
    {
     "data": {
      "application/vnd.jupyter.widget-view+json": {
       "model_id": "b60484e74a894f31b7f48c6865a2a476",
       "version_major": 2,
       "version_minor": 0
      },
      "text/plain": [
       "  0%|          | 0/239 [00:00<?, ?it/s]"
      ]
     },
     "metadata": {},
     "output_type": "display_data"
    },
    {
     "name": "stdout",
     "output_type": "stream",
     "text": [
      "Processing: nigeria_2013\n"
     ]
    },
    {
     "data": {
      "application/vnd.jupyter.widget-view+json": {
       "model_id": "a7dd496dd49a4d6c845dcf8547d82a80",
       "version_major": 2,
       "version_minor": 0
      },
      "text/plain": [
       "  0%|          | 0/889 [00:00<?, ?it/s]"
      ]
     },
     "metadata": {},
     "output_type": "display_data"
    },
    {
     "name": "stdout",
     "output_type": "stream",
     "text": [
      "Processing: nigeria_2015\n"
     ]
    },
    {
     "data": {
      "application/vnd.jupyter.widget-view+json": {
       "model_id": "8c3dcd46700d458c8d3161f0eae0d7ea",
       "version_major": 2,
       "version_minor": 0
      },
      "text/plain": [
       "  0%|          | 0/322 [00:00<?, ?it/s]"
      ]
     },
     "metadata": {},
     "output_type": "display_data"
    },
    {
     "name": "stdout",
     "output_type": "stream",
     "text": [
      "Processing: rwanda_2010\n"
     ]
    },
    {
     "data": {
      "application/vnd.jupyter.widget-view+json": {
       "model_id": "1f7736ab235642b49e6875f7e4384ba3",
       "version_major": 2,
       "version_minor": 0
      },
      "text/plain": [
       "  0%|          | 0/492 [00:00<?, ?it/s]"
      ]
     },
     "metadata": {},
     "output_type": "display_data"
    },
    {
     "name": "stdout",
     "output_type": "stream",
     "text": [
      "Processing: rwanda_2014\n"
     ]
    },
    {
     "data": {
      "application/vnd.jupyter.widget-view+json": {
       "model_id": "aa7fc492733c4096be5ad091b3150886",
       "version_major": 2,
       "version_minor": 0
      },
      "text/plain": [
       "  0%|          | 0/492 [00:00<?, ?it/s]"
      ]
     },
     "metadata": {},
     "output_type": "display_data"
    },
    {
     "name": "stdout",
     "output_type": "stream",
     "text": [
      "Processing: senegal_2010\n"
     ]
    },
    {
     "data": {
      "application/vnd.jupyter.widget-view+json": {
       "model_id": "5147fca6b42543cfb47808fe65d66751",
       "version_major": 2,
       "version_minor": 0
      },
      "text/plain": [
       "  0%|          | 0/385 [00:00<?, ?it/s]"
      ]
     },
     "metadata": {},
     "output_type": "display_data"
    },
    {
     "name": "stdout",
     "output_type": "stream",
     "text": [
      "Processing: senegal_2012\n"
     ]
    },
    {
     "data": {
      "application/vnd.jupyter.widget-view+json": {
       "model_id": "b320d5cad5564c439b3790ef67db586d",
       "version_major": 2,
       "version_minor": 0
      },
      "text/plain": [
       "  0%|          | 0/200 [00:00<?, ?it/s]"
      ]
     },
     "metadata": {},
     "output_type": "display_data"
    },
    {
     "name": "stdout",
     "output_type": "stream",
     "text": [
      "Processing: sierra_leone_2013\n"
     ]
    },
    {
     "data": {
      "application/vnd.jupyter.widget-view+json": {
       "model_id": "e23463d0e9a04801887413e6d01af006",
       "version_major": 2,
       "version_minor": 0
      },
      "text/plain": [
       "  0%|          | 0/435 [00:00<?, ?it/s]"
      ]
     },
     "metadata": {},
     "output_type": "display_data"
    },
    {
     "name": "stdout",
     "output_type": "stream",
     "text": [
      "Processing: tanzania_2010\n"
     ]
    },
    {
     "data": {
      "application/vnd.jupyter.widget-view+json": {
       "model_id": "5491b7fca6774620a6abf9101b537453",
       "version_major": 2,
       "version_minor": 0
      },
      "text/plain": [
       "  0%|          | 0/458 [00:00<?, ?it/s]"
      ]
     },
     "metadata": {},
     "output_type": "display_data"
    },
    {
     "name": "stdout",
     "output_type": "stream",
     "text": [
      "Processing: tanzania_2011\n"
     ]
    },
    {
     "data": {
      "application/vnd.jupyter.widget-view+json": {
       "model_id": "3707f1abb4b047ccafb23ac357ee16dc",
       "version_major": 2,
       "version_minor": 0
      },
      "text/plain": [
       "  0%|          | 0/573 [00:00<?, ?it/s]"
      ]
     },
     "metadata": {},
     "output_type": "display_data"
    },
    {
     "name": "stdout",
     "output_type": "stream",
     "text": [
      "Processing: tanzania_2015\n"
     ]
    },
    {
     "data": {
      "application/vnd.jupyter.widget-view+json": {
       "model_id": "1acf949a0c0448b99c10e3a60543757e",
       "version_major": 2,
       "version_minor": 0
      },
      "text/plain": [
       "  0%|          | 0/608 [00:00<?, ?it/s]"
      ]
     },
     "metadata": {},
     "output_type": "display_data"
    },
    {
     "name": "stdout",
     "output_type": "stream",
     "text": [
      "Processing: togo_2013\n"
     ]
    },
    {
     "data": {
      "application/vnd.jupyter.widget-view+json": {
       "model_id": "a83576304a094ab7a3095e761b621942",
       "version_major": 2,
       "version_minor": 0
      },
      "text/plain": [
       "  0%|          | 0/330 [00:00<?, ?it/s]"
      ]
     },
     "metadata": {},
     "output_type": "display_data"
    },
    {
     "name": "stdout",
     "output_type": "stream",
     "text": [
      "Processing: uganda_2009\n"
     ]
    },
    {
     "data": {
      "application/vnd.jupyter.widget-view+json": {
       "model_id": "ac930a0e43c34283a187ea436d1e741f",
       "version_major": 2,
       "version_minor": 0
      },
      "text/plain": [
       "  0%|          | 0/170 [00:00<?, ?it/s]"
      ]
     },
     "metadata": {},
     "output_type": "display_data"
    },
    {
     "name": "stdout",
     "output_type": "stream",
     "text": [
      "Processing: uganda_2011\n"
     ]
    },
    {
     "data": {
      "application/vnd.jupyter.widget-view+json": {
       "model_id": "e5f1f02af3964937b298a87fe2f11f21",
       "version_major": 2,
       "version_minor": 0
      },
      "text/plain": [
       "  0%|          | 0/400 [00:00<?, ?it/s]"
      ]
     },
     "metadata": {},
     "output_type": "display_data"
    },
    {
     "name": "stdout",
     "output_type": "stream",
     "text": [
      "Processing: uganda_2014\n"
     ]
    },
    {
     "data": {
      "application/vnd.jupyter.widget-view+json": {
       "model_id": "1eb59e3f33c54f29baa8cf08cd98a0dc",
       "version_major": 2,
       "version_minor": 0
      },
      "text/plain": [
       "  0%|          | 0/208 [00:00<?, ?it/s]"
      ]
     },
     "metadata": {},
     "output_type": "display_data"
    },
    {
     "name": "stdout",
     "output_type": "stream",
     "text": [
      "Processing: zambia_2013\n"
     ]
    },
    {
     "data": {
      "application/vnd.jupyter.widget-view+json": {
       "model_id": "fa79a471de6f47babcd6508a91a41b51",
       "version_major": 2,
       "version_minor": 0
      },
      "text/plain": [
       "  0%|          | 0/719 [00:00<?, ?it/s]"
      ]
     },
     "metadata": {},
     "output_type": "display_data"
    },
    {
     "name": "stdout",
     "output_type": "stream",
     "text": [
      "Processing: zimbabwe_2010\n"
     ]
    },
    {
     "data": {
      "application/vnd.jupyter.widget-view+json": {
       "model_id": "68c0287db93b4dd5b6cb2690fa4039a8",
       "version_major": 2,
       "version_minor": 0
      },
      "text/plain": [
       "  0%|          | 0/393 [00:00<?, ?it/s]"
      ]
     },
     "metadata": {},
     "output_type": "display_data"
    },
    {
     "name": "stdout",
     "output_type": "stream",
     "text": [
      "Processing: zimbabwe_2015\n"
     ]
    },
    {
     "data": {
      "application/vnd.jupyter.widget-view+json": {
       "model_id": "5800f33a740c4f02aa7b7a60a6515a1a",
       "version_major": 2,
       "version_minor": 0
      },
      "text/plain": [
       "  0%|          | 0/400 [00:00<?, ?it/s]"
      ]
     },
     "metadata": {},
     "output_type": "display_data"
    }
   ],
   "source": [
    "process_dataset(\n",
    "    csv_path='data/dhs_clusters.csv',\n",
    "    input_dir=DHS_EXPORT_FOLDER,\n",
    "    processed_dir=DHS_PROCESSED_FOLDER)"
   ]
  },
  {
   "cell_type": "code",
   "execution_count": 11,
   "metadata": {},
   "outputs": [
    {
     "name": "stdout",
     "output_type": "stream",
     "text": [
      "> \u001b[0;32m/var/folders/c2/qhh9f94576qdllgxmdkpmm000000gn/T/ipykernel_38354/1796422133.py\u001b[0m(71)\u001b[0;36mvalidate_and_split_tfrecords\u001b[0;34m()\u001b[0m\n",
      "\u001b[0;32m     69 \u001b[0;31m                \u001b[0mft_type\u001b[0m \u001b[0;34m=\u001b[0m \u001b[0mfeature_map\u001b[0m\u001b[0;34m[\u001b[0m\u001b[0mcol\u001b[0m\u001b[0;34m]\u001b[0m\u001b[0;34m.\u001b[0m\u001b[0mWhichOneof\u001b[0m\u001b[0;34m(\u001b[0m\u001b[0;34m'kind'\u001b[0m\u001b[0;34m)\u001b[0m\u001b[0;34m\u001b[0m\u001b[0;34m\u001b[0m\u001b[0m\n",
      "\u001b[0m\u001b[0;32m     70 \u001b[0;31m                \u001b[0mex_val\u001b[0m \u001b[0;34m=\u001b[0m \u001b[0mfeature_map\u001b[0m\u001b[0;34m[\u001b[0m\u001b[0mcol\u001b[0m\u001b[0;34m]\u001b[0m\u001b[0;34m.\u001b[0m\u001b[0m__getattribute__\u001b[0m\u001b[0;34m(\u001b[0m\u001b[0mft_type\u001b[0m\u001b[0;34m)\u001b[0m\u001b[0;34m.\u001b[0m\u001b[0mvalue\u001b[0m\u001b[0;34m[\u001b[0m\u001b[0;36m0\u001b[0m\u001b[0;34m]\u001b[0m\u001b[0;34m\u001b[0m\u001b[0;34m\u001b[0m\u001b[0m\n",
      "\u001b[0m\u001b[0;32m---> 71 \u001b[0;31m                \u001b[0;32massert\u001b[0m \u001b[0mval\u001b[0m \u001b[0;34m==\u001b[0m \u001b[0mex_val\u001b[0m\u001b[0;34m,\u001b[0m \u001b[0;34mf'Expected {col}={val}, but found {ex_val} instead'\u001b[0m\u001b[0;34m\u001b[0m\u001b[0;34m\u001b[0m\u001b[0m\n",
      "\u001b[0m\u001b[0;32m     72 \u001b[0;31m\u001b[0;34m\u001b[0m\u001b[0m\n",
      "\u001b[0m\u001b[0;32m     73 \u001b[0;31m            \u001b[0;31m# serialize to string and write to file\u001b[0m\u001b[0;34m\u001b[0m\u001b[0;34m\u001b[0m\u001b[0m\n",
      "\u001b[0m\n"
     ]
    },
    {
     "name": "stdin",
     "output_type": "stream",
     "text": [
      "ipdb>  feature_map[col].__getattribute__(ft_type).value[0]\n"
     ]
    },
    {
     "name": "stdout",
     "output_type": "stream",
     "text": [
      "6.7430219650268555\n"
     ]
    },
    {
     "name": "stdin",
     "output_type": "stream",
     "text": [
      "ipdb>  tfrecord_path\n"
     ]
    },
    {
     "name": "stdout",
     "output_type": "stream",
     "text": [
      "'data/dhs_tfrecords_raw_eth16/ethiopia_2016_100.tfrecord.gz'\n"
     ]
    },
    {
     "name": "stdin",
     "output_type": "stream",
     "text": [
      "ipdb>  tfrecord_paths\n"
     ]
    },
    {
     "name": "stdout",
     "output_type": "stream",
     "text": [
      "['data/dhs_tfrecords_raw_eth16/ethiopia_2016_00.tfrecord.gz', 'data/dhs_tfrecords_raw_eth16/ethiopia_2016_01.tfrecord.gz', 'data/dhs_tfrecords_raw_eth16/ethiopia_2016_02.tfrecord.gz', 'data/dhs_tfrecords_raw_eth16/ethiopia_2016_03.tfrecord.gz', 'data/dhs_tfrecords_raw_eth16/ethiopia_2016_04.tfrecord.gz', 'data/dhs_tfrecords_raw_eth16/ethiopia_2016_05.tfrecord.gz', 'data/dhs_tfrecords_raw_eth16/ethiopia_2016_06.tfrecord.gz', 'data/dhs_tfrecords_raw_eth16/ethiopia_2016_07.tfrecord.gz', 'data/dhs_tfrecords_raw_eth16/ethiopia_2016_08.tfrecord.gz', 'data/dhs_tfrecords_raw_eth16/ethiopia_2016_09.tfrecord.gz', 'data/dhs_tfrecords_raw_eth16/ethiopia_2016_10.tfrecord.gz', 'data/dhs_tfrecords_raw_eth16/ethiopia_2016_100.tfrecord.gz', 'data/dhs_tfrecords_raw_eth16/ethiopia_2016_101.tfrecord.gz', 'data/dhs_tfrecords_raw_eth16/ethiopia_2016_102.tfrecord.gz', 'data/dhs_tfrecords_raw_eth16/ethiopia_2016_103.tfrecord.gz', 'data/dhs_tfrecords_raw_eth16/ethiopia_2016_104.tfrecord.gz', 'data/dhs_tfrecords_raw_eth16/ethiopia_2016_105.tfrecord.gz', 'data/dhs_tfrecords_raw_eth16/ethiopia_2016_106.tfrecord.gz', 'data/dhs_tfrecords_raw_eth16/ethiopia_2016_107.tfrecord.gz', 'data/dhs_tfrecords_raw_eth16/ethiopia_2016_108.tfrecord.gz', 'data/dhs_tfrecords_raw_eth16/ethiopia_2016_109.tfrecord.gz', 'data/dhs_tfrecords_raw_eth16/ethiopia_2016_11.tfrecord.gz', 'data/dhs_tfrecords_raw_eth16/ethiopia_2016_110.tfrecord.gz', 'data/dhs_tfrecords_raw_eth16/ethiopia_2016_111.tfrecord.gz', 'data/dhs_tfrecords_raw_eth16/ethiopia_2016_112.tfrecord.gz', 'data/dhs_tfrecords_raw_eth16/ethiopia_2016_113.tfrecord.gz', 'data/dhs_tfrecords_raw_eth16/ethiopia_2016_114.tfrecord.gz', 'data/dhs_tfrecords_raw_eth16/ethiopia_2016_115.tfrecord.gz', 'data/dhs_tfrecords_raw_eth16/ethiopia_2016_116.tfrecord.gz', 'data/dhs_tfrecords_raw_eth16/ethiopia_2016_117.tfrecord.gz', 'data/dhs_tfrecords_raw_eth16/ethiopia_2016_118.tfrecord.gz', 'data/dhs_tfrecords_raw_eth16/ethiopia_2016_119.tfrecord.gz', 'data/dhs_tfrecords_raw_eth16/ethiopia_2016_12.tfrecord.gz', 'data/dhs_tfrecords_raw_eth16/ethiopia_2016_120.tfrecord.gz', 'data/dhs_tfrecords_raw_eth16/ethiopia_2016_121.tfrecord.gz', 'data/dhs_tfrecords_raw_eth16/ethiopia_2016_122.tfrecord.gz', 'data/dhs_tfrecords_raw_eth16/ethiopia_2016_123.tfrecord.gz', 'data/dhs_tfrecords_raw_eth16/ethiopia_2016_124.tfrecord.gz', 'data/dhs_tfrecords_raw_eth16/ethiopia_2016_13.tfrecord.gz', 'data/dhs_tfrecords_raw_eth16/ethiopia_2016_14.tfrecord.gz', 'data/dhs_tfrecords_raw_eth16/ethiopia_2016_15.tfrecord.gz', 'data/dhs_tfrecords_raw_eth16/ethiopia_2016_16.tfrecord.gz', 'data/dhs_tfrecords_raw_eth16/ethiopia_2016_17.tfrecord.gz', 'data/dhs_tfrecords_raw_eth16/ethiopia_2016_18.tfrecord.gz', 'data/dhs_tfrecords_raw_eth16/ethiopia_2016_19.tfrecord.gz', 'data/dhs_tfrecords_raw_eth16/ethiopia_2016_20.tfrecord.gz', 'data/dhs_tfrecords_raw_eth16/ethiopia_2016_21.tfrecord.gz', 'data/dhs_tfrecords_raw_eth16/ethiopia_2016_22.tfrecord.gz', 'data/dhs_tfrecords_raw_eth16/ethiopia_2016_23.tfrecord.gz', 'data/dhs_tfrecords_raw_eth16/ethiopia_2016_24.tfrecord.gz', 'data/dhs_tfrecords_raw_eth16/ethiopia_2016_25.tfrecord.gz', 'data/dhs_tfrecords_raw_eth16/ethiopia_2016_26.tfrecord.gz', 'data/dhs_tfrecords_raw_eth16/ethiopia_2016_27.tfrecord.gz', 'data/dhs_tfrecords_raw_eth16/ethiopia_2016_28.tfrecord.gz', 'data/dhs_tfrecords_raw_eth16/ethiopia_2016_29.tfrecord.gz', 'data/dhs_tfrecords_raw_eth16/ethiopia_2016_30.tfrecord.gz', 'data/dhs_tfrecords_raw_eth16/ethiopia_2016_31.tfrecord.gz', 'data/dhs_tfrecords_raw_eth16/ethiopia_2016_32.tfrecord.gz', 'data/dhs_tfrecords_raw_eth16/ethiopia_2016_33.tfrecord.gz', 'data/dhs_tfrecords_raw_eth16/ethiopia_2016_34.tfrecord.gz', 'data/dhs_tfrecords_raw_eth16/ethiopia_2016_35.tfrecord.gz', 'data/dhs_tfrecords_raw_eth16/ethiopia_2016_36.tfrecord.gz', 'data/dhs_tfrecords_raw_eth16/ethiopia_2016_37.tfrecord.gz', 'data/dhs_tfrecords_raw_eth16/ethiopia_2016_38.tfrecord.gz', 'data/dhs_tfrecords_raw_eth16/ethiopia_2016_39.tfrecord.gz', 'data/dhs_tfrecords_raw_eth16/ethiopia_2016_40.tfrecord.gz', 'data/dhs_tfrecords_raw_eth16/ethiopia_2016_41.tfrecord.gz', 'data/dhs_tfrecords_raw_eth16/ethiopia_2016_42.tfrecord.gz', 'data/dhs_tfrecords_raw_eth16/ethiopia_2016_43.tfrecord.gz', 'data/dhs_tfrecords_raw_eth16/ethiopia_2016_44.tfrecord.gz', 'data/dhs_tfrecords_raw_eth16/ethiopia_2016_45.tfrecord.gz', 'data/dhs_tfrecords_raw_eth16/ethiopia_2016_46.tfrecord.gz', 'data/dhs_tfrecords_raw_eth16/ethiopia_2016_47.tfrecord.gz', 'data/dhs_tfrecords_raw_eth16/ethiopia_2016_48.tfrecord.gz', 'data/dhs_tfrecords_raw_eth16/ethiopia_2016_49.tfrecord.gz', 'data/dhs_tfrecords_raw_eth16/ethiopia_2016_50.tfrecord.gz', 'data/dhs_tfrecords_raw_eth16/ethiopia_2016_51.tfrecord.gz', 'data/dhs_tfrecords_raw_eth16/ethiopia_2016_52.tfrecord.gz', 'data/dhs_tfrecords_raw_eth16/ethiopia_2016_53.tfrecord.gz', 'data/dhs_tfrecords_raw_eth16/ethiopia_2016_54.tfrecord.gz', 'data/dhs_tfrecords_raw_eth16/ethiopia_2016_55.tfrecord.gz', 'data/dhs_tfrecords_raw_eth16/ethiopia_2016_56.tfrecord.gz', 'data/dhs_tfrecords_raw_eth16/ethiopia_2016_57.tfrecord.gz', 'data/dhs_tfrecords_raw_eth16/ethiopia_2016_58.tfrecord.gz', 'data/dhs_tfrecords_raw_eth16/ethiopia_2016_59.tfrecord.gz', 'data/dhs_tfrecords_raw_eth16/ethiopia_2016_60.tfrecord.gz', 'data/dhs_tfrecords_raw_eth16/ethiopia_2016_61.tfrecord.gz', 'data/dhs_tfrecords_raw_eth16/ethiopia_2016_62.tfrecord.gz', 'data/dhs_tfrecords_raw_eth16/ethiopia_2016_63.tfrecord.gz', 'data/dhs_tfrecords_raw_eth16/ethiopia_2016_64.tfrecord.gz', 'data/dhs_tfrecords_raw_eth16/ethiopia_2016_65.tfrecord.gz', 'data/dhs_tfrecords_raw_eth16/ethiopia_2016_66.tfrecord.gz', 'data/dhs_tfrecords_raw_eth16/ethiopia_2016_67.tfrecord.gz', 'data/dhs_tfrecords_raw_eth16/ethiopia_2016_68.tfrecord.gz', 'data/dhs_tfrecords_raw_eth16/ethiopia_2016_69.tfrecord.gz', 'data/dhs_tfrecords_raw_eth16/ethiopia_2016_70.tfrecord.gz', 'data/dhs_tfrecords_raw_eth16/ethiopia_2016_71.tfrecord.gz', 'data/dhs_tfrecords_raw_eth16/ethiopia_2016_72.tfrecord.gz', 'data/dhs_tfrecords_raw_eth16/ethiopia_2016_73.tfrecord.gz', 'data/dhs_tfrecords_raw_eth16/ethiopia_2016_74.tfrecord.gz', 'data/dhs_tfrecords_raw_eth16/ethiopia_2016_75.tfrecord.gz', 'data/dhs_tfrecords_raw_eth16/ethiopia_2016_76.tfrecord.gz', 'data/dhs_tfrecords_raw_eth16/ethiopia_2016_77.tfrecord.gz', 'data/dhs_tfrecords_raw_eth16/ethiopia_2016_78.tfrecord.gz', 'data/dhs_tfrecords_raw_eth16/ethiopia_2016_79.tfrecord.gz', 'data/dhs_tfrecords_raw_eth16/ethiopia_2016_80.tfrecord.gz', 'data/dhs_tfrecords_raw_eth16/ethiopia_2016_81.tfrecord.gz', 'data/dhs_tfrecords_raw_eth16/ethiopia_2016_82.tfrecord.gz', 'data/dhs_tfrecords_raw_eth16/ethiopia_2016_83.tfrecord.gz', 'data/dhs_tfrecords_raw_eth16/ethiopia_2016_84.tfrecord.gz', 'data/dhs_tfrecords_raw_eth16/ethiopia_2016_85.tfrecord.gz', 'data/dhs_tfrecords_raw_eth16/ethiopia_2016_86.tfrecord.gz', 'data/dhs_tfrecords_raw_eth16/ethiopia_2016_87.tfrecord.gz', 'data/dhs_tfrecords_raw_eth16/ethiopia_2016_88.tfrecord.gz', 'data/dhs_tfrecords_raw_eth16/ethiopia_2016_89.tfrecord.gz', 'data/dhs_tfrecords_raw_eth16/ethiopia_2016_90.tfrecord.gz', 'data/dhs_tfrecords_raw_eth16/ethiopia_2016_91.tfrecord.gz', 'data/dhs_tfrecords_raw_eth16/ethiopia_2016_92.tfrecord.gz', 'data/dhs_tfrecords_raw_eth16/ethiopia_2016_93.tfrecord.gz', 'data/dhs_tfrecords_raw_eth16/ethiopia_2016_94.tfrecord.gz', 'data/dhs_tfrecords_raw_eth16/ethiopia_2016_95.tfrecord.gz', 'data/dhs_tfrecords_raw_eth16/ethiopia_2016_96.tfrecord.gz', 'data/dhs_tfrecords_raw_eth16/ethiopia_2016_97.tfrecord.gz', 'data/dhs_tfrecords_raw_eth16/ethiopia_2016_98.tfrecord.gz', 'data/dhs_tfrecords_raw_eth16/ethiopia_2016_99.tfrecord.gz']\n",
      "--KeyboardInterrupt--\n",
      "\n",
      "KeyboardInterrupt: Interrupted by user\n"
     ]
    }
   ],
   "source": [
    "%debug"
   ]
  },
  {
   "cell_type": "code",
   "execution_count": null,
   "metadata": {},
   "outputs": [],
   "source": [
    "#process_dataset(\n",
    "#    csv_path='data/dhsnl_locs.csv',\n",
    "#    input_dir=DHSNL_EXPORT_FOLDER,\n",
    "#    processed_dir=DHSNL_PROCESSED_FOLDER)"
   ]
  },
  {
   "cell_type": "code",
   "execution_count": null,
   "metadata": {},
   "outputs": [],
   "source": [
    "process_dataset(\n",
    "    csv_path='data/lsms_clusters.csv',\n",
    "    input_dir=LSMS_EXPORT_FOLDER,\n",
    "    processed_dir=LSMS_PROCESSED_FOLDER)"
   ]
  },
  {
   "cell_type": "markdown",
   "metadata": {},
   "source": [
    "## Verify the Individual TFRecord Files (Optional)\n",
    "\n",
    "Check that the label, location, and year values in each individual TFRecord file match the original CSV."
   ]
  },
  {
   "cell_type": "code",
   "execution_count": null,
   "metadata": {},
   "outputs": [],
   "source": [
    "def validate_individual_tfrecords(tfrecord_paths: Iterable[str],\n",
    "                                  csv_path: str,\n",
    "                                  label_name: Optional[str] = None) -> None:\n",
    "    '''\n",
    "    Args\n",
    "    - tfrecord_paths: list of str, paths to individual TFRecord files\n",
    "        in the same order as in the CSV\n",
    "    - csv_path: str, path to CSV file with columns ['lat', 'lon', 'wealthpooled', 'year']\n",
    "    '''\n",
    "    df = pd.read_csv(csv_path, float_precision='high', index_col=False)\n",
    "    iter_init, batch_op = batcher.Batcher(\n",
    "        tfrecord_files=tfrecord_paths,\n",
    "        label_name=label_name,\n",
    "        ls_bands=None,\n",
    "        nl_band=None,\n",
    "        batch_size=128,\n",
    "        shuffle=False,\n",
    "        augment=False,\n",
    "        clipneg=False,\n",
    "        normalize=None).get_batch()\n",
    "\n",
    "    locs, years = [], []\n",
    "    if label_name is not None:\n",
    "        labels = []\n",
    "\n",
    "    num_processed = 0\n",
    "    with tf.Session() as sess:\n",
    "        sess.run(iter_init)\n",
    "        while True:\n",
    "            try:\n",
    "                if label_name is not None:\n",
    "                    batch_np = sess.run((batch_op['locs'], batch_op['years'], batch_op['labels']))\n",
    "                    labels.append(batch_np[2])\n",
    "                else:\n",
    "                    batch_np = sess.run((batch_op['locs'], batch_op['years']))\n",
    "                locs.append(batch_np[0])\n",
    "                years.append(batch_np[1])\n",
    "                num_processed += len(batch_np[0])\n",
    "                print(f'\\rProcessed {num_processed} images', end='')\n",
    "            except tf.errors.OutOfRangeError:\n",
    "                break\n",
    "    print()\n",
    "\n",
    "    locs = np.concatenate(locs)\n",
    "    years = np.concatenate(years)\n",
    "    assert (locs == df[['lat', 'lon']].to_numpy(dtype=np.float32)).all()\n",
    "    assert (years == df['year'].to_numpy(dtype=np.float32)).all()\n",
    "    if label_name is not None:\n",
    "        labels = np.concatenate(labels)\n",
    "        assert (labels == df['wealthpooled'].to_numpy(dtype=np.float32)).all()"
   ]
  },
  {
   "cell_type": "code",
   "execution_count": null,
   "metadata": {},
   "outputs": [],
   "source": [
    "validate_individual_tfrecords(\n",
    "    tfrecord_paths=tfrecord_paths_utils.dhs(),\n",
    "    csv_path='data/dhs_clusters.csv',\n",
    "    label_name='wealthpooled')"
   ]
  },
  {
   "cell_type": "code",
   "execution_count": null,
   "metadata": {},
   "outputs": [],
   "source": [
    "%debug"
   ]
  },
  {
   "cell_type": "code",
   "execution_count": null,
   "metadata": {},
   "outputs": [],
   "source": [
    "validate_individual_tfrecords(\n",
    "    tfrecord_paths=tfrecord_paths_utils.dhsnl(),\n",
    "    csv_path='data/dhsnl_locs.csv')"
   ]
  },
  {
   "cell_type": "code",
   "execution_count": null,
   "metadata": {},
   "outputs": [],
   "source": [
    "validate_individual_tfrecords(\n",
    "    tfrecord_paths=tfrecord_paths_utils.lsms(),\n",
    "    csv_path='data/lsms_clusters.csv')"
   ]
  },
  {
   "cell_type": "markdown",
   "metadata": {},
   "source": [
    "## Calculate Mean and Std-Dev for Each Band\n",
    "\n",
    "The means and standard deviations calculated here are saved as constants in `batchers/dataset_constants.py` for `_MEANS_DHS`, `_STD_DEVS_DHS`, `_MEANS_LSMS`, and `_STD_DEVS_LSMS`."
   ]
  },
  {
   "cell_type": "code",
   "execution_count": null,
   "metadata": {},
   "outputs": [],
   "source": [
    "def calculate_mean_std(tfrecord_paths):\n",
    "    '''Calculates and prints the per-band means and std-devs'''\n",
    "    iter_init, batch_op = batcher.Batcher(\n",
    "        tfrecord_files=tfrecord_paths,\n",
    "        label_name=None,\n",
    "        ls_bands='ms',\n",
    "        nl_band='merge',\n",
    "        batch_size=128,\n",
    "        shuffle=False,\n",
    "        augment=False,\n",
    "        clipneg=False,\n",
    "        normalize=None).get_batch()\n",
    "\n",
    "    stats = analyze_tfrecord_batch(\n",
    "        iter_init, batch_op, total_num_images=len(tfrecord_paths),\n",
    "        nbands=len(BANDS_ORDER), k=10)\n",
    "    means, stds = per_band_mean_std(stats=stats, band_order=BANDS_ORDER)\n",
    "\n",
    "    print('Means:')\n",
    "    pprint(means)\n",
    "    print()\n",
    "\n",
    "    print('Std Devs:')\n",
    "    pprint(stds)\n",
    "\n",
    "    print('\\n========== Additional Per-band Statistics ==========\\n')\n",
    "    print_analysis_results(stats, BANDS_ORDER)"
   ]
  },
  {
   "cell_type": "code",
   "execution_count": null,
   "metadata": {},
   "outputs": [],
   "source": [
    "calculate_mean_std(tfrecord_paths_utils.dhs())"
   ]
  },
  {
   "cell_type": "code",
   "execution_count": null,
   "metadata": {},
   "outputs": [],
   "source": [
    "%debug"
   ]
  },
  {
   "cell_type": "code",
   "execution_count": null,
   "metadata": {},
   "outputs": [],
   "source": [
    "calculate_mean_std(tfrecord_paths_utils.dhsnl())"
   ]
  },
  {
   "cell_type": "code",
   "execution_count": null,
   "metadata": {},
   "outputs": [],
   "source": [
    "calculate_mean_std(tfrecord_paths_utils.lsms())"
   ]
  },
  {
   "cell_type": "code",
   "execution_count": null,
   "metadata": {},
   "outputs": [],
   "source": []
  }
 ],
 "metadata": {
  "kernelspec": {
   "display_name": "Python [conda env:r3py3] *",
   "language": "python",
   "name": "conda-env-r3py3-py"
  },
  "language_info": {
   "codemirror_mode": {
    "name": "ipython",
    "version": 3
   },
   "file_extension": ".py",
   "mimetype": "text/x-python",
   "name": "python",
   "nbconvert_exporter": "python",
   "pygments_lexer": "ipython3",
   "version": "3.10.8"
  },
  "toc": {
   "base_numbering": 1,
   "nav_menu": {},
   "number_sections": true,
   "sideBar": true,
   "skip_h1_title": false,
   "title_cell": "Table of Contents",
   "title_sidebar": "Contents",
   "toc_cell": true,
   "toc_position": {
    "height": "calc(100% - 180px)",
    "left": "10px",
    "top": "150px",
    "width": "307.2px"
   },
   "toc_section_display": true,
   "toc_window_display": true
  }
 },
 "nbformat": 4,
 "nbformat_minor": 4
}
